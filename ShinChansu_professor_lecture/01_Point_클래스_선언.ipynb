{
  "nbformat": 4,
  "nbformat_minor": 0,
  "metadata": {
    "colab": {
      "name": "01. Point 클래스 선언.ipynb",
      "provenance": []
    },
    "kernelspec": {
      "name": "python3",
      "display_name": "Python 3"
    },
    "language_info": {
      "name": "python"
    }
  },
  "cells": [
    {
      "cell_type": "markdown",
      "source": [
        "### Point 클래스 선언\n",
        "\n",
        "- Point 클래스는 2차원 평면의 점(또는 2차원 벡터)을 나타내는 클래스이다\n",
        "- 필요한 멤버는 점의 x-좌표와 y-좌표이다\n",
        "- 다음과 같이 선언할 수 있다."
      ],
      "metadata": {
        "id": "X7JEUAD2xcmi"
      }
    },
    {
      "cell_type": "markdown",
      "source": [
        "\n",
        "![image.png](data:image/png;base64,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)"
      ],
      "metadata": {
        "id": "cqpnounMx0o4"
      }
    },
    {
      "cell_type": "markdown",
      "source": [
        "- 생성 함수(magic method 중 하나) __init__의 매개변수로 두 좌표 값을 받는다.\n",
        "- default 좌표 값은 0으로 정했다. (다른 default 값으로 지정해도 상관 없다)\n",
        "- [주의] 클래스의 모든 메소드의 첫 번째 매개변수는 이 메소드를 호출하는 객체를 나타내는 `self` 이어야 한다."
      ],
      "metadata": {
        "id": "2OYKhExGx2UL"
      }
    },
    {
      "cell_type": "code",
      "execution_count": 1,
      "metadata": {
        "colab": {
          "base_uri": "https://localhost:8080/"
        },
        "id": "xvPqIbQPt-sQ",
        "outputId": "dc8fa7a0-c9e2-41e0-c0fa-e6e90087983e"
      },
      "outputs": [
        {
          "output_type": "stream",
          "name": "stdout",
          "text": [
            "<__main__.Point object at 0x7f7ab7aaebd0>\n"
          ]
        }
      ],
      "source": [
        "class Point:\n",
        "  def __init__(self, x=0, y=0):\n",
        "    self.x = x\n",
        "    self.y = y\n",
        "\n",
        "p = Point(1,2)\n",
        "print(p)"
      ]
    },
    {
      "cell_type": "markdown",
      "source": [
        "<__main__.Point object at 0x7f7ab7aaebd0> 와 같은 메시지가 출력된다\n",
        "- print(p)를 수행하면 객체 p를 프린트해야 하는데, 구체적으로 어떤 내용을 출력해야 하는지 print 함수는 전혀 알지 못한다.\n",
        "- print 함수에게 어떤 내용을 출력해야 하는지 알려줘야 한다. 그 역할을 하는 magic method가 __str__ 함수이다.\n",
        "- print(p)를 실행 과정은 (1) p가 속한 클래스 Point의 __str__ 함수가 정의되어 있다면 호출한다. 이 __str__ 함수는 출력용 문자열을 리턴하는 데, print 함수는 단순히 리턴된 문자열을 출력하는 역할이다. 만약 (2) __str__ 함수가 정의되어 있지 않다면, 해당 객체의 기본 정보 <__main__.Point object at 0x7f7ab7aaebd0> 를 출력한다.\n",
        "\n",
        "- 아래 코드에 __str__ 함수를 추가한다. __str__ 함수는 Point 객체의 출력하고 싶은 내용을 문자열로 만들어 리턴하기만 하면 된다.\n",
        "- 여기서는 (1,2)와 같이 좌표 값을 일반적인 형식으로 출력하려고 한다.\n",
        "- f\"({self.x}, {self.y})\" 형식의 f-문자열은 {} 안에 오는 변수를 변수의 값으로 교체해 문자열을 만드는 방법이다."
      ],
      "metadata": {
        "id": "3VlkDUaIyM39"
      }
    },
    {
      "cell_type": "code",
      "source": [
        "class Point:\n",
        "  def __init__(self, x=0, y=0):\n",
        "    self.x = x\n",
        "    self.y = y\n",
        "  \n",
        "  def __str__(self):\n",
        "    return f\"({self.x}, {self.y})\"\n",
        "\n",
        "p = Point(1,2)\n",
        "print(p)"
      ],
      "metadata": {
        "colab": {
          "base_uri": "https://localhost:8080/"
        },
        "id": "c_-B2-jvyKbQ",
        "outputId": "d5b1bef6-ea65-419a-a1f0-455329b6cfb3"
      },
      "execution_count": 2,
      "outputs": [
        {
          "output_type": "stream",
          "name": "stdout",
          "text": [
            "(1, 2)\n"
          ]
        }
      ]
    },
    {
      "cell_type": "markdown",
      "source": [
        "- 아래 코드를 실행하면 a에 저장된 정수 값 10이 str() 형변환 함수를 통해 문자열 '10'이 된다.\n",
        "- str 함수는 정수(int) 클래스의 magic method인 __str__을 자동으로 호출하는 방식으로 등장한다.\n",
        "- int 클래스의 __str__함수는 해당 값을 문자열로 리턴하기에 결국 문자열 \"10\"이 출력된다."
      ],
      "metadata": {
        "id": "anKA0r90zTxG"
      }
    },
    {
      "cell_type": "code",
      "source": [
        "a = 10\n",
        "print(a)\n",
        "print(type(a))\n",
        "print(str(a))\n",
        "print(type(str(a)))"
      ],
      "metadata": {
        "colab": {
          "base_uri": "https://localhost:8080/"
        },
        "id": "maD3pCtzzRlw",
        "outputId": "3695fd5a-7951-487f-af9b-528c6971b0db"
      },
      "execution_count": 5,
      "outputs": [
        {
          "output_type": "stream",
          "name": "stdout",
          "text": [
            "10\n",
            "<class 'int'>\n",
            "10\n",
            "<class 'str'>\n"
          ]
        }
      ]
    },
    {
      "cell_type": "markdown",
      "source": [
        "- 이를 Point 클래스에도 적용해보자"
      ],
      "metadata": {
        "id": "KwAQgJ7azn87"
      }
    },
    {
      "cell_type": "code",
      "source": [
        "class Point:\n",
        "  def __init__(self, x=0, y=0):\n",
        "    self.x = x\n",
        "    self.y = y\n",
        "\n",
        "  def __str__(self):\n",
        "    return f\"({self.x}, {self.y})\"\n",
        "\n",
        "p = Point(1,2)\n",
        "s = str(p)\n",
        "print(s)"
      ],
      "metadata": {
        "colab": {
          "base_uri": "https://localhost:8080/"
        },
        "id": "Sl04QU2cziVM",
        "outputId": "e90fde3f-1c11-4478-e4cd-3e383f076e64"
      },
      "execution_count": 6,
      "outputs": [
        {
          "output_type": "stream",
          "name": "stdout",
          "text": [
            "(1, 2)\n"
          ]
        }
      ]
    },
    {
      "cell_type": "code",
      "source": [
        ""
      ],
      "metadata": {
        "id": "-NAUDspEz1fD"
      },
      "execution_count": null,
      "outputs": []
    }
  ]
}