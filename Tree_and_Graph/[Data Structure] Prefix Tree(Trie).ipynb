{
 "cells": [
  {
   "cell_type": "markdown",
   "id": "f9a620be",
   "metadata": {},
   "source": [
    "## Prefix Tree(Trie) 구현"
   ]
  },
  {
   "cell_type": "code",
   "execution_count": null,
   "id": "2a78b612",
   "metadata": {},
   "outputs": [],
   "source": []
  },
  {
   "cell_type": "markdown",
   "id": "fb3187bf",
   "metadata": {},
   "source": [
    "    - 단어의 끝을 부모 노드 안에 boolean flag로 정의"
   ]
  },
  {
   "cell_type": "code",
   "execution_count": 7,
   "id": "3961282a",
   "metadata": {},
   "outputs": [],
   "source": [
    "class TrieNode:\n",
    "    def __init__(self):\n",
    "        self.children = {}\n",
    "        self.endOfWord = False\n",
    "        \n",
    "class Trie:\n",
    "    def __init__(self):\n",
    "        self.root = TrieNode()\n",
    "    \n",
    "    def insert(self,word):\n",
    "        cur = self.root\n",
    "        for w in word:\n",
    "            if w not in cur.children:\n",
    "                cur.children[w] = TrieNode()\n",
    "            cur = cur.children[w]\n",
    "        self.endOfWord = True\n",
    "    \n",
    "    def search(self, word):\n",
    "        cur = self.root\n",
    "        for w in word:\n",
    "            if w not in cur.children:\n",
    "                return False\n",
    "            cur = cur.children[w]\n",
    "        return cur.endOfWord\n",
    "    \n",
    "    def startsWith(self, word):\n",
    "        cur = self.root\n",
    "        for w in word:\n",
    "            if w not in cur.children:\n",
    "                return False\n",
    "            cur = cur.children[w]\n",
    "        return True"
   ]
  },
  {
   "cell_type": "code",
   "execution_count": 8,
   "id": "0e9e3589",
   "metadata": {},
   "outputs": [
    {
     "name": "stdout",
     "output_type": "stream",
     "text": [
      "None\n",
      "False\n",
      "False\n",
      "True\n",
      "None\n",
      "False\n"
     ]
    }
   ],
   "source": [
    "trie = Trie()\n",
    "print(trie.insert(\"apple\"))\n",
    "print(trie.search(\"apple\")) \n",
    "print(trie.search(\"app\"))\n",
    "print(trie.startsWith(\"app\")) \n",
    "print(trie.insert(\"app\"))\n",
    "print(trie.search(\"app\"))"
   ]
  },
  {
   "cell_type": "code",
   "execution_count": null,
   "id": "58315703",
   "metadata": {},
   "outputs": [],
   "source": []
  },
  {
   "cell_type": "markdown",
   "id": "6a0680de",
   "metadata": {},
   "source": [
    "    - Null 노드 '*'로 구현"
   ]
  },
  {
   "cell_type": "code",
   "execution_count": 15,
   "id": "9df8b6f5",
   "metadata": {},
   "outputs": [],
   "source": [
    "class TrieNode:\n",
    "    def __init__(self, key, count=0):\n",
    "        self.key = key\n",
    "        self.children = {}\n",
    "        \n",
    "class Trie:\n",
    "    def __init__(self):\n",
    "        self.root = TrieNode(None)\n",
    "        \n",
    "    def insert(self, word):\n",
    "        cur = self.root\n",
    "        for w in word:\n",
    "            if w not in cur.children:\n",
    "                cur.children[w] = TrieNode(w)\n",
    "            cur = cur.children[w]\n",
    "        cur.children['*'] = True\n",
    "    \n",
    "    def search(self, word):\n",
    "        cur = self.root\n",
    "        for w in word:\n",
    "            if w not in cur.children:\n",
    "                return False\n",
    "            cur = cur.children[w]\n",
    "        if '*' in cur.children:\n",
    "            return True\n",
    "        "
   ]
  },
  {
   "cell_type": "code",
   "execution_count": 17,
   "id": "24e06620",
   "metadata": {},
   "outputs": [
    {
     "name": "stdout",
     "output_type": "stream",
     "text": [
      "None\n",
      "True\n",
      "None\n",
      "None\n",
      "True\n"
     ]
    }
   ],
   "source": [
    "trie = Trie()\n",
    "print(trie.insert(\"apple\"))\n",
    "print(trie.search(\"apple\")) \n",
    "print(trie.search(\"app\"))\n",
    "print(trie.insert(\"app\"))\n",
    "print(trie.search(\"app\"))"
   ]
  },
  {
   "cell_type": "code",
   "execution_count": null,
   "id": "5a0cf650",
   "metadata": {},
   "outputs": [],
   "source": []
  }
 ],
 "metadata": {
  "kernelspec": {
   "display_name": "Python 3 (ipykernel)",
   "language": "python",
   "name": "python3"
  },
  "language_info": {
   "codemirror_mode": {
    "name": "ipython",
    "version": 3
   },
   "file_extension": ".py",
   "mimetype": "text/x-python",
   "name": "python",
   "nbconvert_exporter": "python",
   "pygments_lexer": "ipython3",
   "version": "3.9.12"
  }
 },
 "nbformat": 4,
 "nbformat_minor": 5
}
